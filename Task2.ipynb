{
  "cells": [
    {
      "cell_type": "markdown",
      "metadata": {
        "id": "view-in-github",
        "colab_type": "text"
      },
      "source": [
        "<a href=\"https://colab.research.google.com/github/Jack1447/Medical-Interpretable-LLM/blob/main/Task2.ipynb\" target=\"_parent\"><img src=\"https://colab.research.google.com/assets/colab-badge.svg\" alt=\"Open In Colab\"/></a>"
      ]
    },
    {
      "cell_type": "markdown",
      "id": "aff4f398",
      "metadata": {
        "id": "aff4f398"
      },
      "source": [
        "#### MLP在复杂数据集上的分类与决策过程可视化"
      ]
    },
    {
      "cell_type": "code",
      "execution_count": 2,
      "id": "6fc2c154",
      "metadata": {
        "scrolled": true,
        "id": "6fc2c154"
      },
      "outputs": [],
      "source": [
        "import torch\n",
        "from torch.utils.data import Dataset,DataLoader\n",
        "import torch.nn as nn\n",
        "import torch.nn.functional as F\n",
        "import torchvision.transforms as transforms\n",
        "import torchvision.datasets as datasets\n",
        "import torch.optim as optim\n",
        "from tqdm import tqdm\n",
        "from sklearn.metrics import accuracy_score, precision_score, recall_score, f1_score\n",
        "from sklearn.metrics import confusion_matrix\n",
        "import statistics\n",
        "import numpy as np\n",
        "import seaborn as sns\n",
        "import matplotlib.pyplot as plt\n",
        "import wandb"
      ]
    },
    {
      "cell_type": "markdown",
      "id": "c343d15f",
      "metadata": {
        "id": "c343d15f"
      },
      "source": [
        "建立数据集类"
      ]
    },
    {
      "cell_type": "code",
      "execution_count": 3,
      "id": "807dd007",
      "metadata": {
        "id": "807dd007"
      },
      "outputs": [],
      "source": [
        "def generate_dataset(batch_size):\n",
        "    # 下载数据集\n",
        "    train_transformer=transforms.Compose([\n",
        "        transforms.RandomHorizontalFlip(p=0.5),\n",
        "        transforms.RandomRotation(degrees=10),\n",
        "        transforms.ColorJitter(brightness=0.2,contrast=0.2),\n",
        "        transforms.ToTensor(),\n",
        "        transforms.Normalize(mean=[0.5],std=[0.5])\n",
        "    ])\n",
        "\n",
        "    test_transformer=transforms.Compose([\n",
        "        transforms.ToTensor(),\n",
        "        transforms.Normalize(mean=[0.5],std=[0.5])\n",
        "    ])\n",
        "\n",
        "\n",
        "    train_dataset=datasets.FashionMNIST(\n",
        "        root='./data',train=True,download=True,transform=train_transformer\n",
        "    )\n",
        "    test_dataset=datasets.FashionMNIST(\n",
        "        root='./data',train=False,download=True,transform=test_transformer\n",
        "    )\n",
        "\n",
        "    train_dataloader=DataLoader(train_dataset,batch_size=batch_size,shuffle=True,pin_memory=True)\n",
        "    test_dataloader=DataLoader(test_dataset,batch_size=batch_size,shuffle=False,pin_memory=True)\n",
        "\n",
        "\n",
        "    print(f\"训练集数目:{len(train_dataset)} 测试集数目:{len(test_dataset)}\")\n",
        "    print(f\"训练集批数目:{len(train_dataloader)} 测试集批数目:{len(test_dataloader)}\\n\")\n",
        "\n",
        "    return train_dataloader,test_dataloader\n"
      ]
    },
    {
      "cell_type": "markdown",
      "id": "181a4326",
      "metadata": {
        "id": "181a4326"
      },
      "source": [
        "建立MLP模型"
      ]
    },
    {
      "cell_type": "code",
      "execution_count": 4,
      "id": "80ce728a",
      "metadata": {
        "id": "80ce728a"
      },
      "outputs": [],
      "source": [
        "class ClassMLP(nn.Module):\n",
        "    def __init__(self, input_size, num_classes):\n",
        "        super().__init__()\n",
        "        self.layers = nn.Sequential(\n",
        "            nn.Linear(input_size, 512),\n",
        "            nn.BatchNorm1d(512),\n",
        "            nn.ReLU(),\n",
        "            nn.Dropout(0.2),\n",
        "\n",
        "            nn.Linear(512, 256),\n",
        "            nn.BatchNorm1d(256),\n",
        "            nn.ReLU(),\n",
        "            nn.Dropout(0.2),\n",
        "\n",
        "            nn.Linear(256, 128),\n",
        "            nn.ReLU(),\n",
        "            nn.Dropout(0.1),\n",
        "\n",
        "            nn.Linear(128, num_classes)\n",
        "        )\n",
        "\n",
        "    def forward(self, x):\n",
        "        x = x.view(x.size(0), -1)\n",
        "        return self.layers(x)\n"
      ]
    },
    {
      "cell_type": "markdown",
      "id": "2df9d1f9",
      "metadata": {
        "id": "2df9d1f9"
      },
      "source": [
        "指标计算及可视化"
      ]
    },
    {
      "cell_type": "code",
      "execution_count": 5,
      "id": "1ae81308",
      "metadata": {
        "id": "1ae81308"
      },
      "outputs": [],
      "source": [
        "def calculate_metrics(label,predicted,average):\n",
        "    if label.is_cuda:\n",
        "        label=label.cpu()\n",
        "    if predicted.is_cuda:\n",
        "        predicted=predicted.cpu()\n",
        "\n",
        "    label=label.numpy()\n",
        "    predicted=predicted.numpy()   # sklearn函数需要numpy数组\n",
        "\n",
        "    # 准确率\n",
        "    accuracy=accuracy_score(label,predicted)\n",
        "\n",
        "    # 精确率 召回率 F1分数\n",
        "    precision=precision_score(label,predicted,average=average,zero_division=0)\n",
        "    recall=recall_score(label,predicted,average=average,zero_division=0)\n",
        "    f1=f1_score(label,predicted,average=average,zero_division=0)\n",
        "\n",
        "    return accuracy,precision,recall,f1\n",
        "\n",
        "\n",
        "def validate(model,test_dataloader,criterion,device):\n",
        "    model.eval()\n",
        "\n",
        "    with torch.no_grad():\n",
        "        total_loss=0\n",
        "        for image,label in test_dataloader:\n",
        "            image,label=image.to(device),label.to(device)\n",
        "            output=model(image)\n",
        "            loss=criterion(output,label)\n",
        "            total_loss+=loss.item()\n",
        "    model.train()\n",
        "\n",
        "    return total_loss/len(test_dataloader)\n",
        "\n",
        "# 绘制混淆矩阵\n",
        "def plot_confusion_matrix(model,test_dataloader,device):\n",
        "    model.eval()\n",
        "    preds=[]\n",
        "    labels=[]\n",
        "\n",
        "    with torch.no_grad():\n",
        "        for image,label in test_dataloader:\n",
        "            image,label=image.to(device),label.to(device)\n",
        "            output=model(image)   # 可见 model 以batch的形式输入\n",
        "            predicted = torch.argmax(output, dim=1)\n",
        "\n",
        "            preds.append(predicted.cpu().numpy())\n",
        "            labels.append(label.cpu().numpy())\n",
        "\n",
        "    preds=np.concatenate(preds)\n",
        "    labels=np.concatenate(labels)\n",
        "    cm = confusion_matrix(labels, preds)\n",
        "\n",
        "    plt.figure(figsize=(6, 5))\n",
        "    sns.heatmap(cm, annot=True, fmt=\"d\", cmap=\"Blues\")\n",
        "    plt.xlabel(\"Predicted\")\n",
        "    plt.ylabel(\"Labels\")\n",
        "    plt.title(\"Confusion Matrix\")\n",
        "    plt.savefig(\"Confusion Matrix.png\")\n",
        "    plt.close()\n",
        "\n",
        "    wandb.log({\"Confusion Matrix\": wandb.Image(\"Confusion Matrix.png\")})"
      ]
    },
    {
      "cell_type": "markdown",
      "id": "5035bcfe",
      "metadata": {
        "id": "5035bcfe"
      },
      "source": [
        "开始训练"
      ]
    },
    {
      "cell_type": "code",
      "execution_count": 6,
      "id": "eba35c1a",
      "metadata": {
        "id": "eba35c1a"
      },
      "outputs": [],
      "source": [
        "def train(model,train_dataloader,test_dataloader,epochs,device):\n",
        "    # 定义优化器和学习率调度器\n",
        "    optimizer = optim.AdamW(\n",
        "        model.parameters(),\n",
        "        lr=5e-3,\n",
        "        weight_decay=0.01\n",
        "    )\n",
        "\n",
        "    scheduler = optim.lr_scheduler.CosineAnnealingLR(\n",
        "        optimizer,\n",
        "        T_max=epochs,\n",
        "        eta_min=1e-5\n",
        "    )\n",
        "\n",
        "    # 损失函数\n",
        "    criterion=nn.CrossEntropyLoss()\n",
        "\n",
        "    # 初始化\n",
        "    wandb.init(\n",
        "    project=\"FashionMNIST\",\n",
        "    name=f\"MLP_Class_Model\",\n",
        "    config={\n",
        "        \"epochs\": epochs,\n",
        "        \"device\": str(device),\n",
        "        \"optimizer\": str(optimizer),\n",
        "        \"scheduler\": str(scheduler),\n",
        "        'criterion':str(criterion),\n",
        "        \"model_parameters\": sum(p.numel() for p in model.parameters()),\n",
        "    }\n",
        "    )\n",
        "\n",
        "    # 记录模型架构\n",
        "    wandb.watch(model, log=\"all\", log_freq=10)\n",
        "\n",
        "\n",
        "    model=model.to(device)\n",
        "    model.train()\n",
        "    for epoch in range(epochs):\n",
        "        total_loss=0\n",
        "        accuracies=[]\n",
        "        precisions=[]\n",
        "        recalls=[]\n",
        "        f1_scores=[]\n",
        "\n",
        "        # if (epoch+1)%20==0:\n",
        "        pbar=tqdm(train_dataloader,desc=f'Train:{epoch+1}/{epochs}',unit='batch')\n",
        "        # else:\n",
        "            # pbar=train_dataloader\n",
        "        for batch_idx,(image,label) in enumerate(pbar):\n",
        "            image,label=image.to(device),label.to(device)\n",
        "\n",
        "            optimizer.zero_grad()\n",
        "            output=model(image)\n",
        "            loss=criterion(output,label)\n",
        "            loss.backward()\n",
        "            optimizer.step()\n",
        "\n",
        "            total_loss+=loss.item()\n",
        "            if (batch_idx+1)%50==0:\n",
        "                pbar.set_postfix({\n",
        "                    'current loss':loss.item(),\n",
        "                    'avg loss':total_loss/(batch_idx+1)\n",
        "                })\n",
        "\n",
        "            # 计算各项指标\n",
        "            _,predicted=torch.max(output,dim=1)\n",
        "            average='weighted'\n",
        "            accuracy,precision,recall,f1=calculate_metrics(label,predicted,average)\n",
        "            accuracies.append(accuracy)\n",
        "            precisions.append(precision)\n",
        "            recalls.append(recall)\n",
        "            f1_scores.append(f1)\n",
        "\n",
        "        # 计算损失\n",
        "        train_loss=total_loss/len(train_dataloader)\n",
        "        test_loss=validate(model,test_dataloader,criterion,device)\n",
        "\n",
        "        # 打印损失\n",
        "        # if (epoch+1)%20==0:\n",
        "        print(f\"Epoch:{epoch+1} train loss:{train_loss:.4f} test_loss:{test_loss:.4f}\")\n",
        "\n",
        "        accuracy=statistics.mean(accuracies)\n",
        "        precision=statistics.mean(precisions)\n",
        "        recall=statistics.mean(recalls)\n",
        "        f1=statistics.mean(f1_scores)\n",
        "        print(f\"accuracy:{accuracy} precision:{precision} recall:{recall} f1:{f1}\\n\")\n",
        "\n",
        "        # 记录损失及指标\n",
        "        wandb.log({\n",
        "            'epoch':epoch+1,\n",
        "            'train loss':train_loss,\n",
        "            'test loss':test_loss,\n",
        "            'learning_rate': optimizer.param_groups[0]['lr'],\n",
        "            'accuracy':accuracy,\n",
        "            'precision':precision,\n",
        "            'recall':recall,\n",
        "            'f1':f1,\n",
        "        })\n",
        "\n",
        "\n",
        "        scheduler.step()\n",
        "\n",
        "    # 生成混淆矩阵 预测可视化\n",
        "    plot_confusion_matrix(model,test_dataloader,device)\n",
        "\n",
        "    torch.save(model.state_dict(),'MNIST_Class_Model.pth')\n",
        "    print(f\"模型保存在 'MNIST_Class_Model.pth'\")\n",
        "    print(\"==================训练完成===================\")\n",
        "\n",
        "    wandb.finish()\n",
        ""
      ]
    },
    {
      "cell_type": "markdown",
      "id": "f7d17999",
      "metadata": {
        "id": "f7d17999"
      },
      "source": [
        "主函数"
      ]
    },
    {
      "cell_type": "code",
      "execution_count": 7,
      "id": "18efae3e",
      "metadata": {
        "colab": {
          "base_uri": "https://localhost:8080/",
          "height": 1000
        },
        "id": "18efae3e",
        "outputId": "48677139-ed9a-4937-c6ad-98365dfbe6cb"
      },
      "outputs": [
        {
          "output_type": "stream",
          "name": "stderr",
          "text": [
            "100%|██████████| 26.4M/26.4M [00:02<00:00, 11.6MB/s]\n",
            "100%|██████████| 29.5k/29.5k [00:00<00:00, 209kB/s]\n",
            "100%|██████████| 4.42M/4.42M [00:01<00:00, 3.88MB/s]\n",
            "100%|██████████| 5.15k/5.15k [00:00<00:00, 12.6MB/s]\n"
          ]
        },
        {
          "output_type": "stream",
          "name": "stdout",
          "text": [
            "训练集数目:60000 测试集数目:10000\n",
            "训练集批数目:469 测试集批数目:79\n",
            "\n",
            "==================开始训练==================\n",
            "device:cpu 模型的参数:568970\n",
            "\n"
          ]
        },
        {
          "output_type": "stream",
          "name": "stderr",
          "text": [
            "/usr/local/lib/python3.12/dist-packages/notebook/notebookapp.py:191: SyntaxWarning: invalid escape sequence '\\/'\n",
            "  | |_| | '_ \\/ _` / _` |  _/ -_)\n"
          ]
        },
        {
          "output_type": "display_data",
          "data": {
            "text/plain": [
              "<IPython.core.display.Javascript object>"
            ],
            "application/javascript": [
              "\n",
              "        window._wandbApiKey = new Promise((resolve, reject) => {\n",
              "            function loadScript(url) {\n",
              "            return new Promise(function(resolve, reject) {\n",
              "                let newScript = document.createElement(\"script\");\n",
              "                newScript.onerror = reject;\n",
              "                newScript.onload = resolve;\n",
              "                document.body.appendChild(newScript);\n",
              "                newScript.src = url;\n",
              "            });\n",
              "            }\n",
              "            loadScript(\"https://cdn.jsdelivr.net/npm/postmate/build/postmate.min.js\").then(() => {\n",
              "            const iframe = document.createElement('iframe')\n",
              "            iframe.style.cssText = \"width:0;height:0;border:none\"\n",
              "            document.body.appendChild(iframe)\n",
              "            const handshake = new Postmate({\n",
              "                container: iframe,\n",
              "                url: 'https://wandb.ai/authorize'\n",
              "            });\n",
              "            const timeout = setTimeout(() => reject(\"Couldn't auto authenticate\"), 5000)\n",
              "            handshake.then(function(child) {\n",
              "                child.on('authorize', data => {\n",
              "                    clearTimeout(timeout)\n",
              "                    resolve(data)\n",
              "                });\n",
              "            });\n",
              "            })\n",
              "        });\n",
              "    "
            ]
          },
          "metadata": {}
        },
        {
          "output_type": "stream",
          "name": "stderr",
          "text": [
            "\u001b[34m\u001b[1mwandb\u001b[0m: Logging into wandb.ai. (Learn how to deploy a W&B server locally: https://wandb.me/wandb-server)\n",
            "\u001b[34m\u001b[1mwandb\u001b[0m: You can find your API key in your browser here: https://wandb.ai/authorize?ref=models\n",
            "wandb: Paste an API key from your profile and hit enter:"
          ]
        },
        {
          "name": "stdout",
          "output_type": "stream",
          "text": [
            " ··········\n"
          ]
        },
        {
          "output_type": "stream",
          "name": "stderr",
          "text": [
            "\u001b[34m\u001b[1mwandb\u001b[0m: \u001b[33mWARNING\u001b[0m If you're specifying your api key in code, ensure this code is not shared publicly.\n",
            "\u001b[34m\u001b[1mwandb\u001b[0m: \u001b[33mWARNING\u001b[0m Consider setting the WANDB_API_KEY environment variable, or running `wandb login` from the command line.\n",
            "\u001b[34m\u001b[1mwandb\u001b[0m: No netrc file found, creating one.\n",
            "\u001b[34m\u001b[1mwandb\u001b[0m: Appending key for api.wandb.ai to your netrc file: /root/.netrc\n",
            "\u001b[34m\u001b[1mwandb\u001b[0m: Currently logged in as: \u001b[33mhaojiaqi406\u001b[0m (\u001b[33mhaojiaqi406-sun-yat-sen-university\u001b[0m) to \u001b[32mhttps://api.wandb.ai\u001b[0m. Use \u001b[1m`wandb login --relogin`\u001b[0m to force relogin\n"
          ]
        },
        {
          "output_type": "display_data",
          "data": {
            "text/plain": [
              "<IPython.core.display.HTML object>"
            ],
            "text/html": []
          },
          "metadata": {}
        },
        {
          "output_type": "display_data",
          "data": {
            "text/plain": [
              "<IPython.core.display.HTML object>"
            ],
            "text/html": [
              "Tracking run with wandb version 0.22.1"
            ]
          },
          "metadata": {}
        },
        {
          "output_type": "display_data",
          "data": {
            "text/plain": [
              "<IPython.core.display.HTML object>"
            ],
            "text/html": [
              "Run data is saved locally in <code>/content/wandb/run-20251007_122545-6vf8l36y</code>"
            ]
          },
          "metadata": {}
        },
        {
          "output_type": "display_data",
          "data": {
            "text/plain": [
              "<IPython.core.display.HTML object>"
            ],
            "text/html": [
              "Syncing run <strong><a href='https://wandb.ai/haojiaqi406-sun-yat-sen-university/FashionMNIST/runs/6vf8l36y' target=\"_blank\">MLP_Class_Model</a></strong> to <a href='https://wandb.ai/haojiaqi406-sun-yat-sen-university/FashionMNIST' target=\"_blank\">Weights & Biases</a> (<a href='https://wandb.me/developer-guide' target=\"_blank\">docs</a>)<br>"
            ]
          },
          "metadata": {}
        },
        {
          "output_type": "display_data",
          "data": {
            "text/plain": [
              "<IPython.core.display.HTML object>"
            ],
            "text/html": [
              " View project at <a href='https://wandb.ai/haojiaqi406-sun-yat-sen-university/FashionMNIST' target=\"_blank\">https://wandb.ai/haojiaqi406-sun-yat-sen-university/FashionMNIST</a>"
            ]
          },
          "metadata": {}
        },
        {
          "output_type": "display_data",
          "data": {
            "text/plain": [
              "<IPython.core.display.HTML object>"
            ],
            "text/html": [
              " View run at <a href='https://wandb.ai/haojiaqi406-sun-yat-sen-university/FashionMNIST/runs/6vf8l36y' target=\"_blank\">https://wandb.ai/haojiaqi406-sun-yat-sen-university/FashionMNIST/runs/6vf8l36y</a>"
            ]
          },
          "metadata": {}
        },
        {
          "output_type": "stream",
          "name": "stderr",
          "text": [
            "\rTrain:1/35:   0%|          | 0/469 [00:00<?, ?batch/s]/usr/local/lib/python3.12/dist-packages/torch/utils/data/dataloader.py:666: UserWarning: 'pin_memory' argument is set as true but no accelerator is found, then device pinned memory won't be used.\n",
            "  warnings.warn(warn_msg)\n",
            "Train:1/35: 100%|██████████| 469/469 [00:58<00:00,  7.98batch/s, current loss=0.503, avg loss=0.603]\n",
            "/usr/local/lib/python3.12/dist-packages/torch/utils/data/dataloader.py:666: UserWarning: 'pin_memory' argument is set as true but no accelerator is found, then device pinned memory won't be used.\n",
            "  warnings.warn(warn_msg)\n"
          ]
        },
        {
          "output_type": "stream",
          "name": "stdout",
          "text": [
            "Epoch:1 train loss:0.6005 test_loss:0.4633\n",
            "accuracy:0.7819718372423596 precision:0.7990858747438382 recall:0.7819718372423596 f1:0.7782606372011924\n",
            "\n"
          ]
        },
        {
          "output_type": "stream",
          "name": "stderr",
          "text": [
            "Train:2/35: 100%|██████████| 469/469 [00:58<00:00,  8.02batch/s, current loss=0.415, avg loss=0.48]\n",
            "/usr/local/lib/python3.12/dist-packages/torch/utils/data/dataloader.py:666: UserWarning: 'pin_memory' argument is set as true but no accelerator is found, then device pinned memory won't be used.\n",
            "  warnings.warn(warn_msg)\n"
          ]
        },
        {
          "output_type": "stream",
          "name": "stdout",
          "text": [
            "Epoch:2 train loss:0.4805 test_loss:0.4262\n",
            "accuracy:0.8232387171286425 precision:0.8377110002852882 recall:0.8232387171286425 f1:0.8220519622750821\n",
            "\n"
          ]
        },
        {
          "output_type": "stream",
          "name": "stderr",
          "text": [
            "Train:3/35: 100%|██████████| 469/469 [00:57<00:00,  8.15batch/s, current loss=0.426, avg loss=0.445]\n",
            "/usr/local/lib/python3.12/dist-packages/torch/utils/data/dataloader.py:666: UserWarning: 'pin_memory' argument is set as true but no accelerator is found, then device pinned memory won't be used.\n",
            "  warnings.warn(warn_msg)\n"
          ]
        },
        {
          "output_type": "stream",
          "name": "stdout",
          "text": [
            "Epoch:3 train loss:0.4443 test_loss:0.4357\n",
            "accuracy:0.8375421997157072 precision:0.8497398087424717 recall:0.8375421997157072 f1:0.8364006223548047\n",
            "\n"
          ]
        },
        {
          "output_type": "stream",
          "name": "stderr",
          "text": [
            "Train:4/35: 100%|██████████| 469/469 [00:57<00:00,  8.11batch/s, current loss=0.356, avg loss=0.421]\n",
            "/usr/local/lib/python3.12/dist-packages/torch/utils/data/dataloader.py:666: UserWarning: 'pin_memory' argument is set as true but no accelerator is found, then device pinned memory won't be used.\n",
            "  warnings.warn(warn_msg)\n"
          ]
        },
        {
          "output_type": "stream",
          "name": "stdout",
          "text": [
            "Epoch:4 train loss:0.4208 test_loss:0.3737\n",
            "accuracy:0.8445107054015636 precision:0.8570410498304711 recall:0.8445107054015636 f1:0.8437810357487258\n",
            "\n"
          ]
        },
        {
          "output_type": "stream",
          "name": "stderr",
          "text": [
            "Train:5/35: 100%|██████████| 469/469 [00:58<00:00,  8.01batch/s, current loss=0.278, avg loss=0.403]\n",
            "/usr/local/lib/python3.12/dist-packages/torch/utils/data/dataloader.py:666: UserWarning: 'pin_memory' argument is set as true but no accelerator is found, then device pinned memory won't be used.\n",
            "  warnings.warn(warn_msg)\n"
          ]
        },
        {
          "output_type": "stream",
          "name": "stdout",
          "text": [
            "Epoch:5 train loss:0.4029 test_loss:0.3772\n",
            "accuracy:0.8521344171997157 precision:0.8638919902673775 recall:0.8521344171997157 f1:0.8514939195761105\n",
            "\n"
          ]
        },
        {
          "output_type": "stream",
          "name": "stderr",
          "text": [
            "Train:6/35: 100%|██████████| 469/469 [00:58<00:00,  7.98batch/s, current loss=0.349, avg loss=0.386]\n",
            "/usr/local/lib/python3.12/dist-packages/torch/utils/data/dataloader.py:666: UserWarning: 'pin_memory' argument is set as true but no accelerator is found, then device pinned memory won't be used.\n",
            "  warnings.warn(warn_msg)\n"
          ]
        },
        {
          "output_type": "stream",
          "name": "stdout",
          "text": [
            "Epoch:6 train loss:0.3866 test_loss:0.3718\n",
            "accuracy:0.857437144633973 precision:0.8684818027489544 recall:0.857437144633973 f1:0.8565043249280783\n",
            "\n"
          ]
        },
        {
          "output_type": "stream",
          "name": "stderr",
          "text": [
            "Train:7/35: 100%|██████████| 469/469 [01:00<00:00,  7.75batch/s, current loss=0.376, avg loss=0.375]\n",
            "/usr/local/lib/python3.12/dist-packages/torch/utils/data/dataloader.py:666: UserWarning: 'pin_memory' argument is set as true but no accelerator is found, then device pinned memory won't be used.\n",
            "  warnings.warn(warn_msg)\n"
          ]
        },
        {
          "output_type": "stream",
          "name": "stdout",
          "text": [
            "Epoch:7 train loss:0.3748 test_loss:0.3583\n",
            "accuracy:0.8613017501776831 precision:0.872517719873792 recall:0.8613017501776831 f1:0.8610743876910745\n",
            "\n"
          ]
        },
        {
          "output_type": "stream",
          "name": "stderr",
          "text": [
            "Train:8/35: 100%|██████████| 469/469 [00:57<00:00,  8.15batch/s, current loss=0.308, avg loss=0.37]\n",
            "/usr/local/lib/python3.12/dist-packages/torch/utils/data/dataloader.py:666: UserWarning: 'pin_memory' argument is set as true but no accelerator is found, then device pinned memory won't be used.\n",
            "  warnings.warn(warn_msg)\n"
          ]
        },
        {
          "output_type": "stream",
          "name": "stdout",
          "text": [
            "Epoch:8 train loss:0.3685 test_loss:0.3388\n",
            "accuracy:0.8650108830845771 precision:0.8757304905142361 recall:0.8650108830845771 f1:0.8646498231802098\n",
            "\n"
          ]
        },
        {
          "output_type": "stream",
          "name": "stderr",
          "text": [
            "Train:9/35: 100%|██████████| 469/469 [00:57<00:00,  8.09batch/s, current loss=0.37, avg loss=0.355]\n",
            "/usr/local/lib/python3.12/dist-packages/torch/utils/data/dataloader.py:666: UserWarning: 'pin_memory' argument is set as true but no accelerator is found, then device pinned memory won't be used.\n",
            "  warnings.warn(warn_msg)\n"
          ]
        },
        {
          "output_type": "stream",
          "name": "stdout",
          "text": [
            "Epoch:9 train loss:0.3546 test_loss:0.3454\n",
            "accuracy:0.8698249822316987 precision:0.880369163178534 recall:0.8698249822316987 f1:0.8694865318609831\n",
            "\n"
          ]
        },
        {
          "output_type": "stream",
          "name": "stderr",
          "text": [
            "Train:10/35: 100%|██████████| 469/469 [00:58<00:00,  7.96batch/s, current loss=0.417, avg loss=0.349]\n",
            "/usr/local/lib/python3.12/dist-packages/torch/utils/data/dataloader.py:666: UserWarning: 'pin_memory' argument is set as true but no accelerator is found, then device pinned memory won't be used.\n",
            "  warnings.warn(warn_msg)\n"
          ]
        },
        {
          "output_type": "stream",
          "name": "stdout",
          "text": [
            "Epoch:10 train loss:0.3492 test_loss:0.3461\n",
            "accuracy:0.8701581378820185 precision:0.8802784041636726 recall:0.8701581378820185 f1:0.8696225652038813\n",
            "\n"
          ]
        },
        {
          "output_type": "stream",
          "name": "stderr",
          "text": [
            "Train:11/35: 100%|██████████| 469/469 [00:58<00:00,  8.01batch/s, current loss=0.458, avg loss=0.344]\n",
            "/usr/local/lib/python3.12/dist-packages/torch/utils/data/dataloader.py:666: UserWarning: 'pin_memory' argument is set as true but no accelerator is found, then device pinned memory won't be used.\n",
            "  warnings.warn(warn_msg)\n"
          ]
        },
        {
          "output_type": "stream",
          "name": "stdout",
          "text": [
            "Epoch:11 train loss:0.3439 test_loss:0.3232\n",
            "accuracy:0.8726123845060412 precision:0.8819960736443163 recall:0.8726123845060412 f1:0.8721222983058613\n",
            "\n"
          ]
        },
        {
          "output_type": "stream",
          "name": "stderr",
          "text": [
            "Train:12/35: 100%|██████████| 469/469 [00:58<00:00,  8.05batch/s, current loss=0.328, avg loss=0.337]\n",
            "/usr/local/lib/python3.12/dist-packages/torch/utils/data/dataloader.py:666: UserWarning: 'pin_memory' argument is set as true but no accelerator is found, then device pinned memory won't be used.\n",
            "  warnings.warn(warn_msg)\n"
          ]
        },
        {
          "output_type": "stream",
          "name": "stdout",
          "text": [
            "Epoch:12 train loss:0.3371 test_loss:0.3250\n",
            "accuracy:0.8735674307036247 precision:0.8835213861548865 recall:0.8735674307036247 f1:0.873302177299698\n",
            "\n"
          ]
        },
        {
          "output_type": "stream",
          "name": "stderr",
          "text": [
            "Train:13/35: 100%|██████████| 469/469 [00:57<00:00,  8.13batch/s, current loss=0.268, avg loss=0.327]\n",
            "/usr/local/lib/python3.12/dist-packages/torch/utils/data/dataloader.py:666: UserWarning: 'pin_memory' argument is set as true but no accelerator is found, then device pinned memory won't be used.\n",
            "  warnings.warn(warn_msg)\n"
          ]
        },
        {
          "output_type": "stream",
          "name": "stdout",
          "text": [
            "Epoch:13 train loss:0.3276 test_loss:0.3422\n",
            "accuracy:0.8786369491826581 precision:0.8876401247507218 recall:0.8786369491826581 f1:0.878525031600109\n",
            "\n"
          ]
        },
        {
          "output_type": "stream",
          "name": "stderr",
          "text": [
            "Train:14/35: 100%|██████████| 469/469 [00:59<00:00,  7.93batch/s, current loss=0.285, avg loss=0.321]\n",
            "/usr/local/lib/python3.12/dist-packages/torch/utils/data/dataloader.py:666: UserWarning: 'pin_memory' argument is set as true but no accelerator is found, then device pinned memory won't be used.\n",
            "  warnings.warn(warn_msg)\n"
          ]
        },
        {
          "output_type": "stream",
          "name": "stdout",
          "text": [
            "Epoch:14 train loss:0.3204 test_loss:0.3155\n",
            "accuracy:0.8815242981520967 precision:0.8902216976361202 recall:0.8815242981520967 f1:0.881369444147511\n",
            "\n"
          ]
        },
        {
          "output_type": "stream",
          "name": "stderr",
          "text": [
            "Train:15/35: 100%|██████████| 469/469 [00:58<00:00,  8.05batch/s, current loss=0.293, avg loss=0.315]\n",
            "/usr/local/lib/python3.12/dist-packages/torch/utils/data/dataloader.py:666: UserWarning: 'pin_memory' argument is set as true but no accelerator is found, then device pinned memory won't be used.\n",
            "  warnings.warn(warn_msg)\n"
          ]
        },
        {
          "output_type": "stream",
          "name": "stdout",
          "text": [
            "Epoch:15 train loss:0.3161 test_loss:0.3084\n",
            "accuracy:0.8830790245202559 precision:0.8920393552882608 recall:0.8830790245202559 f1:0.8829249024576976\n",
            "\n"
          ]
        },
        {
          "output_type": "stream",
          "name": "stderr",
          "text": [
            "Train:16/35: 100%|██████████| 469/469 [00:57<00:00,  8.13batch/s, current loss=0.321, avg loss=0.308]\n",
            "/usr/local/lib/python3.12/dist-packages/torch/utils/data/dataloader.py:666: UserWarning: 'pin_memory' argument is set as true but no accelerator is found, then device pinned memory won't be used.\n",
            "  warnings.warn(warn_msg)\n"
          ]
        },
        {
          "output_type": "stream",
          "name": "stdout",
          "text": [
            "Epoch:16 train loss:0.3075 test_loss:0.3011\n",
            "accuracy:0.884944696162047 precision:0.8936093128480639 recall:0.884944696162047 f1:0.8847058052711494\n",
            "\n"
          ]
        },
        {
          "output_type": "stream",
          "name": "stderr",
          "text": [
            "Train:17/35: 100%|██████████| 469/469 [00:57<00:00,  8.12batch/s, current loss=0.268, avg loss=0.3]\n",
            "/usr/local/lib/python3.12/dist-packages/torch/utils/data/dataloader.py:666: UserWarning: 'pin_memory' argument is set as true but no accelerator is found, then device pinned memory won't be used.\n",
            "  warnings.warn(warn_msg)\n"
          ]
        },
        {
          "output_type": "stream",
          "name": "stdout",
          "text": [
            "Epoch:17 train loss:0.3000 test_loss:0.3072\n",
            "accuracy:0.8882929104477612 precision:0.8966236232086661 recall:0.8882929104477612 f1:0.8881282845460629\n",
            "\n"
          ]
        },
        {
          "output_type": "stream",
          "name": "stderr",
          "text": [
            "Train:18/35: 100%|██████████| 469/469 [00:58<00:00,  8.08batch/s, current loss=0.243, avg loss=0.298]\n",
            "/usr/local/lib/python3.12/dist-packages/torch/utils/data/dataloader.py:666: UserWarning: 'pin_memory' argument is set as true but no accelerator is found, then device pinned memory won't be used.\n",
            "  warnings.warn(warn_msg)\n"
          ]
        },
        {
          "output_type": "stream",
          "name": "stdout",
          "text": [
            "Epoch:18 train loss:0.2981 test_loss:0.3118\n",
            "accuracy:0.8871934968017058 precision:0.8955814205296913 recall:0.8871934968017058 f1:0.8870337070134309\n",
            "\n"
          ]
        },
        {
          "output_type": "stream",
          "name": "stderr",
          "text": [
            "Train:19/35: 100%|██████████| 469/469 [00:58<00:00,  8.02batch/s, current loss=0.29, avg loss=0.288]\n",
            "/usr/local/lib/python3.12/dist-packages/torch/utils/data/dataloader.py:666: UserWarning: 'pin_memory' argument is set as true but no accelerator is found, then device pinned memory won't be used.\n",
            "  warnings.warn(warn_msg)\n"
          ]
        },
        {
          "output_type": "stream",
          "name": "stdout",
          "text": [
            "Epoch:19 train loss:0.2882 test_loss:0.3046\n",
            "accuracy:0.8910969705046198 precision:0.8987627011678524 recall:0.8910969705046198 f1:0.8908806756068461\n",
            "\n"
          ]
        },
        {
          "output_type": "stream",
          "name": "stderr",
          "text": [
            "Train:20/35: 100%|██████████| 469/469 [00:59<00:00,  7.95batch/s, current loss=0.325, avg loss=0.283]\n",
            "/usr/local/lib/python3.12/dist-packages/torch/utils/data/dataloader.py:666: UserWarning: 'pin_memory' argument is set as true but no accelerator is found, then device pinned memory won't be used.\n",
            "  warnings.warn(warn_msg)\n"
          ]
        },
        {
          "output_type": "stream",
          "name": "stdout",
          "text": [
            "Epoch:20 train loss:0.2837 test_loss:0.2907\n",
            "accuracy:0.8939565565031983 precision:0.9016382112515424 recall:0.8939565565031983 f1:0.893853214506675\n",
            "\n"
          ]
        },
        {
          "output_type": "stream",
          "name": "stderr",
          "text": [
            "Train:21/35: 100%|██████████| 469/469 [00:58<00:00,  8.07batch/s, current loss=0.198, avg loss=0.277]\n",
            "/usr/local/lib/python3.12/dist-packages/torch/utils/data/dataloader.py:666: UserWarning: 'pin_memory' argument is set as true but no accelerator is found, then device pinned memory won't be used.\n",
            "  warnings.warn(warn_msg)\n"
          ]
        },
        {
          "output_type": "stream",
          "name": "stdout",
          "text": [
            "Epoch:21 train loss:0.2768 test_loss:0.2963\n",
            "accuracy:0.8959999111584932 precision:0.9034450667899782 recall:0.8959999111584932 f1:0.8959450077529247\n",
            "\n"
          ]
        },
        {
          "output_type": "stream",
          "name": "stderr",
          "text": [
            "Train:22/35: 100%|██████████| 469/469 [00:58<00:00,  7.97batch/s, current loss=0.311, avg loss=0.273]\n",
            "/usr/local/lib/python3.12/dist-packages/torch/utils/data/dataloader.py:666: UserWarning: 'pin_memory' argument is set as true but no accelerator is found, then device pinned memory won't be used.\n",
            "  warnings.warn(warn_msg)\n"
          ]
        },
        {
          "output_type": "stream",
          "name": "stdout",
          "text": [
            "Epoch:22 train loss:0.2734 test_loss:0.2905\n",
            "accuracy:0.8968328002842928 precision:0.9041166434230592 recall:0.8968328002842928 f1:0.8967037468179833\n",
            "\n"
          ]
        },
        {
          "output_type": "stream",
          "name": "stderr",
          "text": [
            "Train:23/35: 100%|██████████| 469/469 [00:58<00:00,  8.06batch/s, current loss=0.309, avg loss=0.262]\n",
            "/usr/local/lib/python3.12/dist-packages/torch/utils/data/dataloader.py:666: UserWarning: 'pin_memory' argument is set as true but no accelerator is found, then device pinned memory won't be used.\n",
            "  warnings.warn(warn_msg)\n"
          ]
        },
        {
          "output_type": "stream",
          "name": "stdout",
          "text": [
            "Epoch:23 train loss:0.2635 test_loss:0.2891\n",
            "accuracy:0.9000421997157072 precision:0.9072897292136216 recall:0.9000421997157072 f1:0.8999322693725705\n",
            "\n"
          ]
        },
        {
          "output_type": "stream",
          "name": "stderr",
          "text": [
            "Train:24/35: 100%|██████████| 469/469 [00:59<00:00,  7.94batch/s, current loss=0.378, avg loss=0.262]\n",
            "/usr/local/lib/python3.12/dist-packages/torch/utils/data/dataloader.py:666: UserWarning: 'pin_memory' argument is set as true but no accelerator is found, then device pinned memory won't be used.\n",
            "  warnings.warn(warn_msg)\n"
          ]
        },
        {
          "output_type": "stream",
          "name": "stdout",
          "text": [
            "Epoch:24 train loss:0.2609 test_loss:0.2840\n",
            "accuracy:0.900314276830135 precision:0.9076278026747371 recall:0.900314276830135 f1:0.9002677269471225\n",
            "\n"
          ]
        },
        {
          "output_type": "stream",
          "name": "stderr",
          "text": [
            "Train:25/35: 100%|██████████| 469/469 [01:00<00:00,  7.79batch/s, current loss=0.244, avg loss=0.258]\n",
            "/usr/local/lib/python3.12/dist-packages/torch/utils/data/dataloader.py:666: UserWarning: 'pin_memory' argument is set as true but no accelerator is found, then device pinned memory won't be used.\n",
            "  warnings.warn(warn_msg)\n"
          ]
        },
        {
          "output_type": "stream",
          "name": "stdout",
          "text": [
            "Epoch:25 train loss:0.2561 test_loss:0.2821\n",
            "accuracy:0.9017301883439943 precision:0.9089303098286282 recall:0.9017301883439943 f1:0.9015961118060626\n",
            "\n"
          ]
        },
        {
          "output_type": "stream",
          "name": "stderr",
          "text": [
            "Train:26/35: 100%|██████████| 469/469 [00:58<00:00,  8.05batch/s, current loss=0.254, avg loss=0.252]\n",
            "/usr/local/lib/python3.12/dist-packages/torch/utils/data/dataloader.py:666: UserWarning: 'pin_memory' argument is set as true but no accelerator is found, then device pinned memory won't be used.\n",
            "  warnings.warn(warn_msg)\n"
          ]
        },
        {
          "output_type": "stream",
          "name": "stdout",
          "text": [
            "Epoch:26 train loss:0.2522 test_loss:0.2805\n",
            "accuracy:0.9046508528784648 precision:0.9113905424332505 recall:0.9046508528784648 f1:0.9045410413605398\n",
            "\n"
          ]
        },
        {
          "output_type": "stream",
          "name": "stderr",
          "text": [
            "Train:27/35: 100%|██████████| 469/469 [00:59<00:00,  7.93batch/s, current loss=0.337, avg loss=0.245]\n",
            "/usr/local/lib/python3.12/dist-packages/torch/utils/data/dataloader.py:666: UserWarning: 'pin_memory' argument is set as true but no accelerator is found, then device pinned memory won't be used.\n",
            "  warnings.warn(warn_msg)\n"
          ]
        },
        {
          "output_type": "stream",
          "name": "stdout",
          "text": [
            "Epoch:27 train loss:0.2449 test_loss:0.2791\n",
            "accuracy:0.9064887615493958 precision:0.9135546630018513 recall:0.9064887615493958 f1:0.9064683202449225\n",
            "\n"
          ]
        },
        {
          "output_type": "stream",
          "name": "stderr",
          "text": [
            "Train:28/35: 100%|██████████| 469/469 [00:58<00:00,  8.07batch/s, current loss=0.198, avg loss=0.244]\n",
            "/usr/local/lib/python3.12/dist-packages/torch/utils/data/dataloader.py:666: UserWarning: 'pin_memory' argument is set as true but no accelerator is found, then device pinned memory won't be used.\n",
            "  warnings.warn(warn_msg)\n"
          ]
        },
        {
          "output_type": "stream",
          "name": "stdout",
          "text": [
            "Epoch:28 train loss:0.2436 test_loss:0.2772\n",
            "accuracy:0.9071050995024875 precision:0.9140013288787158 recall:0.9071050995024875 f1:0.9070271925507536\n",
            "\n"
          ]
        },
        {
          "output_type": "stream",
          "name": "stderr",
          "text": [
            "Train:29/35: 100%|██████████| 469/469 [00:57<00:00,  8.16batch/s, current loss=0.314, avg loss=0.24]\n",
            "/usr/local/lib/python3.12/dist-packages/torch/utils/data/dataloader.py:666: UserWarning: 'pin_memory' argument is set as true but no accelerator is found, then device pinned memory won't be used.\n",
            "  warnings.warn(warn_msg)\n"
          ]
        },
        {
          "output_type": "stream",
          "name": "stdout",
          "text": [
            "Epoch:29 train loss:0.2400 test_loss:0.2765\n",
            "accuracy:0.9084765902629709 precision:0.9150850302932617 recall:0.9084765902629709 f1:0.9084654857389941\n",
            "\n"
          ]
        },
        {
          "output_type": "stream",
          "name": "stderr",
          "text": [
            "Train:30/35: 100%|██████████| 469/469 [00:58<00:00,  8.04batch/s, current loss=0.198, avg loss=0.235]\n",
            "/usr/local/lib/python3.12/dist-packages/torch/utils/data/dataloader.py:666: UserWarning: 'pin_memory' argument is set as true but no accelerator is found, then device pinned memory won't be used.\n",
            "  warnings.warn(warn_msg)\n"
          ]
        },
        {
          "output_type": "stream",
          "name": "stdout",
          "text": [
            "Epoch:30 train loss:0.2347 test_loss:0.2738\n",
            "accuracy:0.9105199449182658 precision:0.9168848195280157 recall:0.9105199449182658 f1:0.910450128953472\n",
            "\n"
          ]
        },
        {
          "output_type": "stream",
          "name": "stderr",
          "text": [
            "Train:31/35: 100%|██████████| 469/469 [00:58<00:00,  8.08batch/s, current loss=0.233, avg loss=0.233]\n",
            "/usr/local/lib/python3.12/dist-packages/torch/utils/data/dataloader.py:666: UserWarning: 'pin_memory' argument is set as true but no accelerator is found, then device pinned memory won't be used.\n",
            "  warnings.warn(warn_msg)\n"
          ]
        },
        {
          "output_type": "stream",
          "name": "stdout",
          "text": [
            "Epoch:31 train loss:0.2333 test_loss:0.2749\n",
            "accuracy:0.9118969882729211 precision:0.9183347942782345 recall:0.9118969882729211 f1:0.9117192776672951\n",
            "\n"
          ]
        },
        {
          "output_type": "stream",
          "name": "stderr",
          "text": [
            "Train:32/35: 100%|██████████| 469/469 [00:58<00:00,  8.07batch/s, current loss=0.214, avg loss=0.23]\n",
            "/usr/local/lib/python3.12/dist-packages/torch/utils/data/dataloader.py:666: UserWarning: 'pin_memory' argument is set as true but no accelerator is found, then device pinned memory won't be used.\n",
            "  warnings.warn(warn_msg)\n"
          ]
        },
        {
          "output_type": "stream",
          "name": "stdout",
          "text": [
            "Epoch:32 train loss:0.2298 test_loss:0.2751\n",
            "accuracy:0.9125577469793887 precision:0.9185232375278474 recall:0.9125577469793887 f1:0.9123851306042373\n",
            "\n"
          ]
        },
        {
          "output_type": "stream",
          "name": "stderr",
          "text": [
            "Train:33/35: 100%|██████████| 469/469 [00:59<00:00,  7.93batch/s, current loss=0.309, avg loss=0.228]\n",
            "/usr/local/lib/python3.12/dist-packages/torch/utils/data/dataloader.py:666: UserWarning: 'pin_memory' argument is set as true but no accelerator is found, then device pinned memory won't be used.\n",
            "  warnings.warn(warn_msg)\n"
          ]
        },
        {
          "output_type": "stream",
          "name": "stdout",
          "text": [
            "Epoch:33 train loss:0.2285 test_loss:0.2768\n",
            "accuracy:0.9134406094527363 precision:0.91944936011317 recall:0.9134406094527363 f1:0.913455699469168\n",
            "\n"
          ]
        },
        {
          "output_type": "stream",
          "name": "stderr",
          "text": [
            "Train:34/35: 100%|██████████| 469/469 [00:59<00:00,  7.94batch/s, current loss=0.18, avg loss=0.227]\n",
            "/usr/local/lib/python3.12/dist-packages/torch/utils/data/dataloader.py:666: UserWarning: 'pin_memory' argument is set as true but no accelerator is found, then device pinned memory won't be used.\n",
            "  warnings.warn(warn_msg)\n"
          ]
        },
        {
          "output_type": "stream",
          "name": "stdout",
          "text": [
            "Epoch:34 train loss:0.2273 test_loss:0.2737\n",
            "accuracy:0.9116304637526652 precision:0.9181748166484776 recall:0.9116304637526652 f1:0.9116699221601545\n",
            "\n"
          ]
        },
        {
          "output_type": "stream",
          "name": "stderr",
          "text": [
            "Train:35/35: 100%|██████████| 469/469 [01:00<00:00,  7.75batch/s, current loss=0.21, avg loss=0.23]\n",
            "/usr/local/lib/python3.12/dist-packages/torch/utils/data/dataloader.py:666: UserWarning: 'pin_memory' argument is set as true but no accelerator is found, then device pinned memory won't be used.\n",
            "  warnings.warn(warn_msg)\n"
          ]
        },
        {
          "output_type": "stream",
          "name": "stdout",
          "text": [
            "Epoch:35 train loss:0.2301 test_loss:0.2751\n",
            "accuracy:0.9127076670220327 precision:0.9190030756559149 recall:0.9127076670220327 f1:0.9127326673580692\n",
            "\n",
            "模型保存在 'MNIST_Class_Model.pth'\n",
            "==================训练完成===================\n"
          ]
        },
        {
          "output_type": "display_data",
          "data": {
            "text/plain": [
              "<IPython.core.display.HTML object>"
            ],
            "text/html": []
          },
          "metadata": {}
        },
        {
          "output_type": "display_data",
          "data": {
            "text/plain": [
              "<IPython.core.display.HTML object>"
            ],
            "text/html": [
              "<br>    <style><br>        .wandb-row {<br>            display: flex;<br>            flex-direction: row;<br>            flex-wrap: wrap;<br>            justify-content: flex-start;<br>            width: 100%;<br>        }<br>        .wandb-col {<br>            display: flex;<br>            flex-direction: column;<br>            flex-basis: 100%;<br>            flex: 1;<br>            padding: 10px;<br>        }<br>    </style><br><div class=\"wandb-row\"><div class=\"wandb-col\"><h3>Run history:</h3><br/><table class=\"wandb\"><tr><td>accuracy</td><td>▁▃▄▄▅▅▅▅▆▆▆▆▆▆▆▆▇▇▇▇▇▇▇▇▇██████████</td></tr><tr><td>epoch</td><td>▁▁▁▂▂▂▂▂▃▃▃▃▃▄▄▄▄▅▅▅▅▅▆▆▆▆▆▇▇▇▇▇███</td></tr><tr><td>f1</td><td>▁▃▄▄▅▅▅▅▆▆▆▆▆▆▆▇▇▇▇▇▇▇▇▇▇██████████</td></tr><tr><td>learning_rate</td><td>███████▇▇▇▇▆▆▆▆▅▅▅▄▄▄▃▃▃▃▂▂▂▂▁▁▁▁▁▁</td></tr><tr><td>precision</td><td>▁▃▄▄▅▅▅▅▆▆▆▆▆▆▆▆▇▇▇▇▇▇▇▇▇██████████</td></tr><tr><td>recall</td><td>▁▃▄▄▅▅▅▅▆▆▆▆▆▆▆▆▇▇▇▇▇▇▇▇▇██████████</td></tr><tr><td>test loss</td><td>█▇▇▅▅▅▄▃▄▄▃▃▄▃▂▂▂▂▂▂▂▂▂▁▁▁▁▁▁▁▁▁▁▁▁</td></tr><tr><td>train loss</td><td>█▆▅▅▄▄▄▄▃▃▃▃▃▃▃▃▂▂▂▂▂▂▂▂▂▁▁▁▁▁▁▁▁▁▁</td></tr></table><br/></div><div class=\"wandb-col\"><h3>Run summary:</h3><br/><table class=\"wandb\"><tr><td>accuracy</td><td>0.91271</td></tr><tr><td>epoch</td><td>35</td></tr><tr><td>f1</td><td>0.91273</td></tr><tr><td>learning_rate</td><td>2e-05</td></tr><tr><td>precision</td><td>0.919</td></tr><tr><td>recall</td><td>0.91271</td></tr><tr><td>test loss</td><td>0.27511</td></tr><tr><td>train loss</td><td>0.23008</td></tr></table><br/></div></div>"
            ]
          },
          "metadata": {}
        },
        {
          "output_type": "display_data",
          "data": {
            "text/plain": [
              "<IPython.core.display.HTML object>"
            ],
            "text/html": [
              " View run <strong style=\"color:#cdcd00\">MLP_Class_Model</strong> at: <a href='https://wandb.ai/haojiaqi406-sun-yat-sen-university/FashionMNIST/runs/6vf8l36y' target=\"_blank\">https://wandb.ai/haojiaqi406-sun-yat-sen-university/FashionMNIST/runs/6vf8l36y</a><br> View project at: <a href='https://wandb.ai/haojiaqi406-sun-yat-sen-university/FashionMNIST' target=\"_blank\">https://wandb.ai/haojiaqi406-sun-yat-sen-university/FashionMNIST</a><br>Synced 5 W&B file(s), 1 media file(s), 0 artifact file(s) and 0 other file(s)"
            ]
          },
          "metadata": {}
        },
        {
          "output_type": "display_data",
          "data": {
            "text/plain": [
              "<IPython.core.display.HTML object>"
            ],
            "text/html": [
              "Find logs at: <code>./wandb/run-20251007_122545-6vf8l36y/logs</code>"
            ]
          },
          "metadata": {}
        }
      ],
      "source": [
        "def main():\n",
        "    batch_size=128\n",
        "    epochs=35\n",
        "    train_dataloader,test_dataloader=generate_dataset(batch_size)\n",
        "\n",
        "    # 实例化模型\n",
        "    device=torch.device('cuda' if torch.cuda.is_available() else 'cpu')\n",
        "    model=ClassMLP(28*28,10)\n",
        "\n",
        "    print(\"==================开始训练==================\")\n",
        "    print(f\"device:{device} 模型的参数:{sum(p.numel() for p in model.parameters())}\\n\")\n",
        "    train(model,train_dataloader,test_dataloader,epochs,device)\n",
        "\n",
        "\n",
        "if __name__==\"__main__\":\n",
        "    main()"
      ]
    },
    {
      "cell_type": "code",
      "execution_count": null,
      "id": "0af9da48-707b-470f-811c-7db5110fdd1d",
      "metadata": {
        "id": "0af9da48-707b-470f-811c-7db5110fdd1d"
      },
      "outputs": [],
      "source": []
    }
  ],
  "metadata": {
    "kernelspec": {
      "display_name": "Python (dl)",
      "language": "python",
      "name": "dl"
    },
    "language_info": {
      "codemirror_mode": {
        "name": "ipython",
        "version": 3
      },
      "file_extension": ".py",
      "mimetype": "text/x-python",
      "name": "python",
      "nbconvert_exporter": "python",
      "pygments_lexer": "ipython3",
      "version": "3.10.18"
    },
    "colab": {
      "provenance": [],
      "include_colab_link": true
    }
  },
  "nbformat": 4,
  "nbformat_minor": 5
}